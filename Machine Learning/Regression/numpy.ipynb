{
 "cells": [
  {
   "cell_type": "code",
   "execution_count": 37,
   "metadata": {},
   "outputs": [],
   "source": [
    "import random\n",
    "import math\n",
    "import numpy as np\n",
    "import pandas as pd"
   ]
  },
  {
   "cell_type": "code",
   "execution_count": 17,
   "metadata": {},
   "outputs": [
    {
     "data": {
      "text/html": [
       "<div>\n",
       "<style scoped>\n",
       "    .dataframe tbody tr th:only-of-type {\n",
       "        vertical-align: middle;\n",
       "    }\n",
       "\n",
       "    .dataframe tbody tr th {\n",
       "        vertical-align: top;\n",
       "    }\n",
       "\n",
       "    .dataframe thead th {\n",
       "        text-align: right;\n",
       "    }\n",
       "</style>\n",
       "<table border=\"1\" class=\"dataframe\">\n",
       "  <thead>\n",
       "    <tr style=\"text-align: right;\">\n",
       "      <th></th>\n",
       "      <th>Alcohol</th>\n",
       "      <th>Malic acid</th>\n",
       "      <th>Ash</th>\n",
       "      <th>Alcalinity of ash</th>\n",
       "      <th>Magnesium</th>\n",
       "      <th>Total phenols</th>\n",
       "      <th>Flavanoids</th>\n",
       "      <th>Nonflavanoid phenols</th>\n",
       "      <th>Proanthocyanins</th>\n",
       "      <th>Color intensity</th>\n",
       "      <th>Hue</th>\n",
       "      <th>OD280/OD315 of diluted wines</th>\n",
       "      <th>Proline</th>\n",
       "      <th>Class Label</th>\n",
       "    </tr>\n",
       "  </thead>\n",
       "  <tbody>\n",
       "    <tr>\n",
       "      <th>0</th>\n",
       "      <td>14.23</td>\n",
       "      <td>1.71</td>\n",
       "      <td>2.43</td>\n",
       "      <td>15.6</td>\n",
       "      <td>127</td>\n",
       "      <td>2.80</td>\n",
       "      <td>3.06</td>\n",
       "      <td>0.28</td>\n",
       "      <td>NaN</td>\n",
       "      <td>5.64</td>\n",
       "      <td>1.04</td>\n",
       "      <td>NaN</td>\n",
       "      <td>1065</td>\n",
       "      <td>0</td>\n",
       "    </tr>\n",
       "    <tr>\n",
       "      <th>1</th>\n",
       "      <td>13.20</td>\n",
       "      <td>1.78</td>\n",
       "      <td>2.14</td>\n",
       "      <td>11.2</td>\n",
       "      <td>100</td>\n",
       "      <td>2.65</td>\n",
       "      <td>2.76</td>\n",
       "      <td>0.26</td>\n",
       "      <td>1.28</td>\n",
       "      <td>4.38</td>\n",
       "      <td>1.05</td>\n",
       "      <td>3.40</td>\n",
       "      <td>1050</td>\n",
       "      <td>0</td>\n",
       "    </tr>\n",
       "    <tr>\n",
       "      <th>2</th>\n",
       "      <td>13.16</td>\n",
       "      <td>2.36</td>\n",
       "      <td>2.67</td>\n",
       "      <td>18.6</td>\n",
       "      <td>101</td>\n",
       "      <td>2.80</td>\n",
       "      <td>3.24</td>\n",
       "      <td>0.30</td>\n",
       "      <td>2.81</td>\n",
       "      <td>5.68</td>\n",
       "      <td>1.03</td>\n",
       "      <td>3.17</td>\n",
       "      <td>1185</td>\n",
       "      <td>0</td>\n",
       "    </tr>\n",
       "    <tr>\n",
       "      <th>3</th>\n",
       "      <td>14.37</td>\n",
       "      <td>1.95</td>\n",
       "      <td>2.50</td>\n",
       "      <td>16.8</td>\n",
       "      <td>113</td>\n",
       "      <td>3.85</td>\n",
       "      <td>3.49</td>\n",
       "      <td>0.24</td>\n",
       "      <td>2.18</td>\n",
       "      <td>7.80</td>\n",
       "      <td>0.86</td>\n",
       "      <td>3.45</td>\n",
       "      <td>1480</td>\n",
       "      <td>0</td>\n",
       "    </tr>\n",
       "    <tr>\n",
       "      <th>4</th>\n",
       "      <td>13.24</td>\n",
       "      <td>2.59</td>\n",
       "      <td>2.87</td>\n",
       "      <td>21.0</td>\n",
       "      <td>118</td>\n",
       "      <td>2.80</td>\n",
       "      <td>2.69</td>\n",
       "      <td>0.39</td>\n",
       "      <td>1.82</td>\n",
       "      <td>4.32</td>\n",
       "      <td>1.04</td>\n",
       "      <td>2.93</td>\n",
       "      <td>735</td>\n",
       "      <td>0</td>\n",
       "    </tr>\n",
       "    <tr>\n",
       "      <th>...</th>\n",
       "      <td>...</td>\n",
       "      <td>...</td>\n",
       "      <td>...</td>\n",
       "      <td>...</td>\n",
       "      <td>...</td>\n",
       "      <td>...</td>\n",
       "      <td>...</td>\n",
       "      <td>...</td>\n",
       "      <td>...</td>\n",
       "      <td>...</td>\n",
       "      <td>...</td>\n",
       "      <td>...</td>\n",
       "      <td>...</td>\n",
       "      <td>...</td>\n",
       "    </tr>\n",
       "    <tr>\n",
       "      <th>173</th>\n",
       "      <td>13.71</td>\n",
       "      <td>5.65</td>\n",
       "      <td>2.45</td>\n",
       "      <td>20.5</td>\n",
       "      <td>95</td>\n",
       "      <td>1.68</td>\n",
       "      <td>0.61</td>\n",
       "      <td>0.52</td>\n",
       "      <td>1.06</td>\n",
       "      <td>7.70</td>\n",
       "      <td>0.64</td>\n",
       "      <td>1.74</td>\n",
       "      <td>740</td>\n",
       "      <td>2</td>\n",
       "    </tr>\n",
       "    <tr>\n",
       "      <th>174</th>\n",
       "      <td>13.40</td>\n",
       "      <td>3.91</td>\n",
       "      <td>2.48</td>\n",
       "      <td>23.0</td>\n",
       "      <td>102</td>\n",
       "      <td>1.80</td>\n",
       "      <td>0.75</td>\n",
       "      <td>0.43</td>\n",
       "      <td>1.41</td>\n",
       "      <td>7.30</td>\n",
       "      <td>0.70</td>\n",
       "      <td>1.56</td>\n",
       "      <td>750</td>\n",
       "      <td>2</td>\n",
       "    </tr>\n",
       "    <tr>\n",
       "      <th>175</th>\n",
       "      <td>13.27</td>\n",
       "      <td>4.28</td>\n",
       "      <td>2.26</td>\n",
       "      <td>20.0</td>\n",
       "      <td>120</td>\n",
       "      <td>1.59</td>\n",
       "      <td>0.69</td>\n",
       "      <td>0.43</td>\n",
       "      <td>1.35</td>\n",
       "      <td>10.20</td>\n",
       "      <td>0.59</td>\n",
       "      <td>1.56</td>\n",
       "      <td>835</td>\n",
       "      <td>2</td>\n",
       "    </tr>\n",
       "    <tr>\n",
       "      <th>176</th>\n",
       "      <td>13.17</td>\n",
       "      <td>2.59</td>\n",
       "      <td>2.37</td>\n",
       "      <td>20.0</td>\n",
       "      <td>120</td>\n",
       "      <td>1.65</td>\n",
       "      <td>0.68</td>\n",
       "      <td>0.53</td>\n",
       "      <td>1.46</td>\n",
       "      <td>9.30</td>\n",
       "      <td>0.60</td>\n",
       "      <td>1.62</td>\n",
       "      <td>840</td>\n",
       "      <td>2</td>\n",
       "    </tr>\n",
       "    <tr>\n",
       "      <th>177</th>\n",
       "      <td>14.13</td>\n",
       "      <td>4.10</td>\n",
       "      <td>2.74</td>\n",
       "      <td>24.5</td>\n",
       "      <td>96</td>\n",
       "      <td>2.05</td>\n",
       "      <td>0.76</td>\n",
       "      <td>0.56</td>\n",
       "      <td>1.35</td>\n",
       "      <td>9.20</td>\n",
       "      <td>0.61</td>\n",
       "      <td>1.60</td>\n",
       "      <td>560</td>\n",
       "      <td>2</td>\n",
       "    </tr>\n",
       "  </tbody>\n",
       "</table>\n",
       "<p>178 rows × 14 columns</p>\n",
       "</div>"
      ],
      "text/plain": [
       "     Alcohol  Malic acid   Ash  Alcalinity of ash  Magnesium  Total phenols  \\\n",
       "0      14.23        1.71  2.43               15.6        127           2.80   \n",
       "1      13.20        1.78  2.14               11.2        100           2.65   \n",
       "2      13.16        2.36  2.67               18.6        101           2.80   \n",
       "3      14.37        1.95  2.50               16.8        113           3.85   \n",
       "4      13.24        2.59  2.87               21.0        118           2.80   \n",
       "..       ...         ...   ...                ...        ...            ...   \n",
       "173    13.71        5.65  2.45               20.5         95           1.68   \n",
       "174    13.40        3.91  2.48               23.0        102           1.80   \n",
       "175    13.27        4.28  2.26               20.0        120           1.59   \n",
       "176    13.17        2.59  2.37               20.0        120           1.65   \n",
       "177    14.13        4.10  2.74               24.5         96           2.05   \n",
       "\n",
       "     Flavanoids  Nonflavanoid phenols  Proanthocyanins  Color intensity   Hue  \\\n",
       "0          3.06                  0.28              NaN             5.64  1.04   \n",
       "1          2.76                  0.26             1.28             4.38  1.05   \n",
       "2          3.24                  0.30             2.81             5.68  1.03   \n",
       "3          3.49                  0.24             2.18             7.80  0.86   \n",
       "4          2.69                  0.39             1.82             4.32  1.04   \n",
       "..          ...                   ...              ...              ...   ...   \n",
       "173        0.61                  0.52             1.06             7.70  0.64   \n",
       "174        0.75                  0.43             1.41             7.30  0.70   \n",
       "175        0.69                  0.43             1.35            10.20  0.59   \n",
       "176        0.68                  0.53             1.46             9.30  0.60   \n",
       "177        0.76                  0.56             1.35             9.20  0.61   \n",
       "\n",
       "     OD280/OD315 of diluted wines  Proline  Class Label  \n",
       "0                             NaN     1065            0  \n",
       "1                            3.40     1050            0  \n",
       "2                            3.17     1185            0  \n",
       "3                            3.45     1480            0  \n",
       "4                            2.93      735            0  \n",
       "..                            ...      ...          ...  \n",
       "173                          1.74      740            2  \n",
       "174                          1.56      750            2  \n",
       "175                          1.56      835            2  \n",
       "176                          1.62      840            2  \n",
       "177                          1.60      560            2  \n",
       "\n",
       "[178 rows x 14 columns]"
      ]
     },
     "execution_count": 17,
     "metadata": {},
     "output_type": "execute_result"
    }
   ],
   "source": [
    "wine =  pd.read_csv(\"wine.csv\")\n",
    "wine"
   ]
  },
  {
   "cell_type": "code",
   "execution_count": 18,
   "metadata": {},
   "outputs": [],
   "source": [
    "wine[\"Proanthocyanins\"] = wine[\"Proanthocyanins\"].fillna(wine[\"Proanthocyanins\"].mean())\n",
    "wine[\"OD280/OD315 of diluted wines\"] = wine[\"OD280/OD315 of diluted wines\"].fillna(wine[\"OD280/OD315 of diluted wines\"].mean())\n",
    "wine = wine.drop(\"Class Label\", axis=1)"
   ]
  },
  {
   "cell_type": "code",
   "execution_count": 19,
   "metadata": {},
   "outputs": [
    {
     "name": "stdout",
     "output_type": "stream",
     "text": [
      "x shape:  (178, 12)\n",
      "y shape:  (178, 1)\n"
     ]
    }
   ],
   "source": [
    "x = wine.drop(\"Color intensity\", axis=1).to_numpy()\n",
    "y = wine[[\"Color intensity\"]].to_numpy()\n",
    "\n",
    "print(\"x shape: \", x.shape)\n",
    "print(\"y shape: \", y.shape)"
   ]
  },
  {
   "cell_type": "code",
   "execution_count": 30,
   "metadata": {},
   "outputs": [
    {
     "name": "stdout",
     "output_type": "stream",
     "text": [
      "(178, 13)\n",
      "(178, 1)\n"
     ]
    }
   ],
   "source": [
    "one = np.ones((len(x), 1))\n",
    "X = np.append(one, x, axis=1)\n",
    "\n",
    "Y = np.array(y).reshape((len(y), 1))\n",
    "\n",
    "print(X.shape)\n",
    "print(Y.shape)"
   ]
  },
  {
   "cell_type": "code",
   "execution_count": 21,
   "metadata": {},
   "outputs": [
    {
     "name": "stdout",
     "output_type": "stream",
     "text": [
      "X head\n"
     ]
    },
    {
     "data": {
      "text/plain": [
       "array([[1.00000000e+00, 1.42300000e+01, 1.71000000e+00, 2.43000000e+00,\n",
       "        1.56000000e+01, 1.27000000e+02, 2.80000000e+00, 3.06000000e+00,\n",
       "        2.80000000e-01, 1.58694915e+00, 1.04000000e+00, 2.60429379e+00,\n",
       "        1.06500000e+03],\n",
       "       [1.00000000e+00, 1.32000000e+01, 1.78000000e+00, 2.14000000e+00,\n",
       "        1.12000000e+01, 1.00000000e+02, 2.65000000e+00, 2.76000000e+00,\n",
       "        2.60000000e-01, 1.28000000e+00, 1.05000000e+00, 3.40000000e+00,\n",
       "        1.05000000e+03],\n",
       "       [1.00000000e+00, 1.31600000e+01, 2.36000000e+00, 2.67000000e+00,\n",
       "        1.86000000e+01, 1.01000000e+02, 2.80000000e+00, 3.24000000e+00,\n",
       "        3.00000000e-01, 2.81000000e+00, 1.03000000e+00, 3.17000000e+00,\n",
       "        1.18500000e+03],\n",
       "       [1.00000000e+00, 1.43700000e+01, 1.95000000e+00, 2.50000000e+00,\n",
       "        1.68000000e+01, 1.13000000e+02, 3.85000000e+00, 3.49000000e+00,\n",
       "        2.40000000e-01, 2.18000000e+00, 8.60000000e-01, 3.45000000e+00,\n",
       "        1.48000000e+03],\n",
       "       [1.00000000e+00, 1.32400000e+01, 2.59000000e+00, 2.87000000e+00,\n",
       "        2.10000000e+01, 1.18000000e+02, 2.80000000e+00, 2.69000000e+00,\n",
       "        3.90000000e-01, 1.82000000e+00, 1.04000000e+00, 2.93000000e+00,\n",
       "        7.35000000e+02]])"
      ]
     },
     "metadata": {},
     "output_type": "display_data"
    },
    {
     "name": "stdout",
     "output_type": "stream",
     "text": [
      "Y head\n"
     ]
    },
    {
     "data": {
      "text/plain": [
       "array([[5.64],\n",
       "       [4.38],\n",
       "       [5.68],\n",
       "       [7.8 ],\n",
       "       [4.32]])"
      ]
     },
     "metadata": {},
     "output_type": "display_data"
    }
   ],
   "source": [
    "print(\"X head\")\n",
    "display(X[0:5])\n",
    "print(\"Y head\")\n",
    "display(Y[0:5])"
   ]
  },
  {
   "cell_type": "code",
   "execution_count": 31,
   "metadata": {},
   "outputs": [],
   "source": [
    "def train_test_split(X, Y, split):\n",
    "    #randomly assigning split rows to training set and rest to test set\n",
    "    indices = np.array(range(len(X)))\n",
    "    \n",
    "    train_size = round(split * len(X))\n",
    "\n",
    "    random.shuffle(indices)\n",
    "\n",
    "    train_indices = indices[0:train_size]\n",
    "    test_indices = indices[train_size:len(X)]\n",
    "\n",
    "    X_train = X[train_indices, :]\n",
    "    X_test = X[test_indices, :]\n",
    "    Y_train = Y[train_indices, :]\n",
    "    Y_test = Y[test_indices, :]\n",
    "    \n",
    "    return X_train, Y_train, X_test, Y_test\n",
    "\n",
    "x_train, y_train, x_test, y_test = train_test_split(x, y, 0.5)"
   ]
  },
  {
   "cell_type": "code",
   "execution_count": 32,
   "metadata": {},
   "outputs": [
    {
     "name": "stdout",
     "output_type": "stream",
     "text": [
      "TRAINING SET\n",
      "X_train.shape:  (89, 12)\n",
      "Y_train.shape:  (89, 1)\n",
      "\n",
      "TESTING SET\n",
      "X_test.shape:  (89, 12)\n",
      "Y_test.shape:  (89, 1)\n"
     ]
    }
   ],
   "source": [
    "print (\"TRAINING SET\")\n",
    "print(\"X_train.shape: \", x_train.shape)\n",
    "print(\"Y_train.shape: \", y_train.shape)\n",
    "\n",
    "print(\"\\nTESTING SET\")\n",
    "print(\"X_test.shape: \", x_test.shape)\n",
    "print(\"Y_test.shape: \", y_test.shape)"
   ]
  },
  {
   "cell_type": "code",
   "execution_count": 38,
   "metadata": {},
   "outputs": [],
   "source": [
    "def normal_equation(X, Y):\n",
    "    beta = np.dot((np.linalg.inv(np.dot(X.T,X))), np.dot(X.T,Y))\n",
    "    return beta\n",
    "\n",
    "def predict(X_test, beta):\n",
    "    return np.dot(X_test, beta)"
   ]
  },
  {
   "cell_type": "code",
   "execution_count": 39,
   "metadata": {},
   "outputs": [],
   "source": [
    "beta = normal_equation(x_train, y_train)\n",
    "predictions = predict(x_test, beta)"
   ]
  },
  {
   "cell_type": "code",
   "execution_count": 41,
   "metadata": {},
   "outputs": [],
   "source": [
    "def metrix(predictions, Y_test):\n",
    "    #calculating mean absolute error\n",
    "    MAE = np.mean(np.abs(predictions-Y_test))\n",
    "\n",
    "    #calculating root mean square error\n",
    "    MSE = np.square(np.subtract(Y_test,predictions)).mean() \n",
    "    RMSE = math.sqrt(MSE)\n",
    "\n",
    "    #calculating r_square\n",
    "    rss = np.sum(np.square((Y_test- predictions)))\n",
    "    mean = np.mean(Y_test)\n",
    "    sst = np.sum(np.square(Y_test-mean))\n",
    "    r_square = 1 - (rss/sst)\n",
    "    \n",
    "    return MAE, RMSE, r_square"
   ]
  },
  {
   "cell_type": "code",
   "execution_count": 42,
   "metadata": {},
   "outputs": [
    {
     "name": "stdout",
     "output_type": "stream",
     "text": [
      "Mean Absolute Error:  1.179124742451736\n",
      "Root Mean Square Error:  1.5191037319277838\n",
      "R square:  0.5251677850258403\n"
     ]
    }
   ],
   "source": [
    "mae, rmse, r_square = metrix(predictions, y_test)\n",
    "print(\"Mean Absolute Error: \", mae)\n",
    "print(\"Root Mean Square Error: \", rmse)\n",
    "print(\"R square: \", r_square)"
   ]
  }
 ],
 "metadata": {
  "kernelspec": {
   "display_name": "Python 3.8.10 64-bit",
   "language": "python",
   "name": "python3"
  },
  "language_info": {
   "codemirror_mode": {
    "name": "ipython",
    "version": 3
   },
   "file_extension": ".py",
   "mimetype": "text/x-python",
   "name": "python",
   "nbconvert_exporter": "python",
   "pygments_lexer": "ipython3",
   "version": "3.8.10"
  },
  "orig_nbformat": 4,
  "vscode": {
   "interpreter": {
    "hash": "916dbcbb3f70747c44a77c7bcd40155683ae19c65e1c03b4aa3499c5328201f1"
   }
  }
 },
 "nbformat": 4,
 "nbformat_minor": 2
}
